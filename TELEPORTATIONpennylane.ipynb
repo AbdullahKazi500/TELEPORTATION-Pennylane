{
 "cells": [
  {
   "cell_type": "code",
   "execution_count": 4,
   "id": "8339c6c6-f340-4281-8091-d69519f66e1f",
   "metadata": {},
   "outputs": [
    {
     "name": "stderr",
     "output_type": "stream",
     "text": [
      "UsageError: Line magic function `%` not found.\n"
     ]
    }
   ],
   "source": [
    "import functools\n",
    "import json\n",
    "import math\n",
    "import pandas as pd\n",
    "import pennylane as qml\n",
    "import pennylane.numpy as np\n",
    "import numpy as np\n",
    "import matplotlib.pyplot as plt\n",
    "from squanch import *\n",
    "% matplotlib inline"
   ]
  },
  {
   "cell_type": "code",
   "execution_count": null,
   "id": "20314eaa-a9bc-4e6a-a725-bd8875701450",
   "metadata": {},
   "outputs": [],
   "source": [
    "class Alice(Agent):\n",
    "    '''Alice sends qubits to Bob using a shared Bell pair'''\n",
    "    \n",
    "    def distribute_bell_pair(self, a, b):\n",
    "        # Create a Bell pair and send one particle to Bob\n",
    "        H(a)\n",
    "        CNOT(a, b)\n",
    "        self.qsend(bob, b)\n",
    "\n",
    "    def teleport(self, q, a):\n",
    "        # Perform the teleportation\n",
    "        CNOT(q, a)\n",
    "        H(q)\n",
    "        # Tell Bob whether to apply Pauli-X and -Z over classical channel\n",
    "        bob_should_apply_x = a.measure() # if Bob should apply X\n",
    "        bob_should_apply_z = q.measure() # if Bob should apply Z\n",
    "        self.csend(bob, [bob_should_apply_x, bob_should_apply_z])\n",
    "\n",
    "    def run(self):\n",
    "        for qsystem in self.qstream:\n",
    "            q, a, b = qsystem.qubits # q is state to teleport, a and b are Bell pair\n",
    "            self.distribute_bell_pair(a, b)\n",
    "            self.teleport(q, a)"
   ]
  },
  {
   "cell_type": "code",
   "execution_count": null,
   "id": "aebb143a-63fc-495d-9e76-26ee797853d8",
   "metadata": {},
   "outputs": [],
   "source": [
    "class Bob(Agent):\n",
    "    '''Bob receives qubits from Alice and measures the results'''\n",
    "\n",
    "    def run(self):\n",
    "        measurement_results = []\n",
    "        for _ in self.qstream:\n",
    "            # Bob receives a qubit from Alice\n",
    "            b = self.qrecv(alice) \n",
    "            # Bob receives classical instructions from alice\n",
    "            should_apply_x, should_apply_z = self.crecv(alice)\n",
    "            if should_apply_x: X(b)\n",
    "            if should_apply_z: Z(b)\n",
    "            # Measure the output state\n",
    "            measurement_results.append(b.measure())\n",
    "        # Put results in output object\n",
    "        self.output(measurement_results)"
   ]
  },
  {
   "cell_type": "code",
   "execution_count": null,
   "id": "42f43251-5eac-497d-a588-8cb480a3e342",
   "metadata": {},
   "outputs": [],
   "source": [
    "# Prepare the initial states\n",
    "qstream = QStream(3,10) # 3 qubits per trial, 10 trials\n",
    "states_to_teleport = [1, 0, 1, 0, 1, 0, 1, 0, 1, 0]\n",
    "for state, qsystem in zip(states_to_teleport, qstream):\n",
    "    q = qsystem.qubit(0)\n",
    "    if state == 1: X(q) # flip the qubits corresponding to 1 states\n",
    "\n",
    "# Make and connect the agents\n",
    "out = Agent.shared_output()\n",
    "alice = Alice(qstream, out)\n",
    "bob = Bob(qstream, out)\n",
    "alice.qconnect(bob) # add a quantum channel\n",
    "alice.cconnect(bob) # add a classical channel\n",
    "\n",
    "# Run everything\n",
    "alice.start()\n",
    "bob.start()\n",
    "alice.join()\n",
    "bob.join()\n",
    "\n",
    "print(\"Teleported states {}\".format(states_to_teleport))\n",
    "print(\"Received states   {}\".format(out[\"Bob\"]))"
   ]
  },
  {
   "cell_type": "code",
   "execution_count": 5,
   "id": "1216ad8c-59fe-456a-ab2e-e4dd8da32159",
   "metadata": {},
   "outputs": [
    {
     "ename": "NameError",
     "evalue": "name 'Alice' is not defined",
     "output_type": "error",
     "traceback": [
      "\u001b[0;31m---------------------------------------------------------------------------\u001b[0m",
      "\u001b[0;31mNameError\u001b[0m                                 Traceback (most recent call last)",
      "\u001b[0;32m/tmp/ipykernel_114/2378015981.py\u001b[0m in \u001b[0;36m<cell line: 13>\u001b[0;34m()\u001b[0m\n\u001b[1;32m     11\u001b[0m \u001b[0;31m# Make the agents and connect with quantum and classical channels\u001b[0m\u001b[0;34m\u001b[0m\u001b[0;34m\u001b[0m\u001b[0m\n\u001b[1;32m     12\u001b[0m \u001b[0mout\u001b[0m \u001b[0;34m=\u001b[0m \u001b[0mAgent\u001b[0m\u001b[0;34m.\u001b[0m\u001b[0mshared_output\u001b[0m\u001b[0;34m(\u001b[0m\u001b[0;34m)\u001b[0m\u001b[0;34m\u001b[0m\u001b[0;34m\u001b[0m\u001b[0m\n\u001b[0;32m---> 13\u001b[0;31m \u001b[0malice\u001b[0m \u001b[0;34m=\u001b[0m \u001b[0mAlice\u001b[0m\u001b[0;34m(\u001b[0m\u001b[0mqstream\u001b[0m\u001b[0;34m,\u001b[0m \u001b[0mout\u001b[0m \u001b[0;34m=\u001b[0m \u001b[0mout\u001b[0m\u001b[0;34m)\u001b[0m\u001b[0;34m\u001b[0m\u001b[0;34m\u001b[0m\u001b[0m\n\u001b[0m\u001b[1;32m     14\u001b[0m \u001b[0mbob\u001b[0m \u001b[0;34m=\u001b[0m \u001b[0mBob\u001b[0m\u001b[0;34m(\u001b[0m\u001b[0mqstream\u001b[0m\u001b[0;34m,\u001b[0m \u001b[0mout\u001b[0m \u001b[0;34m=\u001b[0m \u001b[0mout\u001b[0m\u001b[0;34m)\u001b[0m\u001b[0;34m\u001b[0m\u001b[0;34m\u001b[0m\u001b[0m\n\u001b[1;32m     15\u001b[0m \u001b[0malice\u001b[0m\u001b[0;34m.\u001b[0m\u001b[0mqconnect\u001b[0m\u001b[0;34m(\u001b[0m\u001b[0mbob\u001b[0m\u001b[0;34m)\u001b[0m\u001b[0;34m\u001b[0m\u001b[0;34m\u001b[0m\u001b[0m\n",
      "\u001b[0;31mNameError\u001b[0m: name 'Alice' is not defined"
     ]
    }
   ],
   "source": [
    "angles = np.linspace(0, 2 * np.pi, 50)  # RX angles to apply\n",
    "num_trials = 250  # number of trials for each angle\n",
    "\n",
    "# Prepare the initial states in the stream\n",
    "qstream = QStream(3, len(angles) * num_trials)\n",
    "for angle in angles:\n",
    "    for _ in range(num_trials):\n",
    "        q, _, _ = qstream.next().qubits\n",
    "        RX(q, angle)\n",
    "\n",
    "# Make the agents and connect with quantum and classical channels\n",
    "out = Agent.shared_output()\n",
    "alice = Alice(qstream, out = out)\n",
    "bob = Bob(qstream, out = out)\n",
    "alice.qconnect(bob)\n",
    "alice.cconnect(bob)\n",
    "\n",
    "# Run the simulation\n",
    "Simulation(alice, bob).run()\n",
    "\n",
    "# Plot the results\n",
    "results = np.array(out[\"Bob\"]).reshape((len(angles), num_trials))\n",
    "observed = np.mean(results, axis = 1)\n",
    "expected = np.sin(angles / 2) ** 2\n",
    "plt.plot(angles, observed, label = 'Observed')\n",
    "plt.plot(angles, expected, label = 'Expected')\n",
    "plt.legend()\n",
    "plt.xlabel(\"Rotation angle $\\\\theta$\")\n",
    "plt.ylabel(\"Fractional $\\left | 1 \\\\right >$ population\")\n",
    "plt.show()"
   ]
  },
  {
   "cell_type": "code",
   "execution_count": null,
   "id": "576c931c-62cd-433a-b5da-02cb83eea1bf",
   "metadata": {},
   "outputs": [],
   "source": []
  }
 ],
 "metadata": {
  "kernelspec": {
   "display_name": "PennyLane",
   "language": "python",
   "name": "pennylane"
  },
  "language_info": {
   "codemirror_mode": {
    "name": "ipython",
    "version": 3
   },
   "file_extension": ".py",
   "mimetype": "text/x-python",
   "name": "python",
   "nbconvert_exporter": "python",
   "pygments_lexer": "ipython3",
   "version": "3.9.13"
  }
 },
 "nbformat": 4,
 "nbformat_minor": 5
}
